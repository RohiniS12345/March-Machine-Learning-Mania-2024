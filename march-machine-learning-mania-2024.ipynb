# This Python 3 environment comes with many helpful analytics libraries installed
# It is defined by the kaggle/python Docker image: https://github.com/kaggle/docker-python
# For example, here's several helpful packages to load

import numpy as np # linear algebra
import pandas as pd # data processing, CSV file I/O (e.g. pd.read_csv)

# Input data files are available in the read-only "../input/" directory
# For example, running this (by clicking run or pressing Shift+Enter) will list all files under the input directory

import os
for dirname, _, filenames in os.walk('/kaggle/input'):
    for filename in filenames:
        print(os.path.join(dirname, filename))

# You can write up to 20GB to the current directory (/kaggle/working/) that gets preserved as output when you create a version using "Save & Run All" 
# You can also write temporary files to /kaggle/temp/, but they won't be saved outside of the current session
#Preparing Data:
#In order to create our training and validation sets we will be using a data set provided by Kaggle that contains the box scores of every NCAA tournament game dating back to the 2003 season for mens and the 2010 season for womens.
MNCAATourneyDetailed= pd.read_csv('/kaggle/input/march-machine-learning-mania-2024/MNCAATourneyDetailedResults.csv')
WNCAATourneyDetailed= pd.read_csv('/kaggle/input/march-machine-learning-mania-2024/WNCAATourneyDetailedResults.csv')

#Mens data
MasterTrainDf= pd.DataFrame()
trainDfIndex=0
for i in range(len(MNCAATourneyDetailed)):
    MasterTrainDf.loc[trainDfIndex, 'Score']= MNCAATourneyDetailed.loc[i, 'WScore']
    MasterTrainDf.loc[trainDfIndex, 'FG%']= MNCAATourneyDetailed.loc[i, 'WFGM']/MNCAATourneyDetailed.loc[i, 'WFGA']
    MasterTrainDf.loc[trainDfIndex, '3pt%']= MNCAATourneyDetailed.loc[i, 'WFGM3']/MNCAATourneyDetailed.loc[i, 'WFGA3']
    MasterTrainDf.loc[trainDfIndex, 'FT%']= MNCAATourneyDetailed.loc[i, 'WFTM']/MNCAATourneyDetailed.loc[i, 'WFTA']
    MasterTrainDf.loc[trainDfIndex, 'OffReb']= MNCAATourneyDetailed.loc[i, 'WOR']
    MasterTrainDf.loc[trainDfIndex, 'DefReb']= MNCAATourneyDetailed.loc[i, 'WDR']
    MasterTrainDf.loc[trainDfIndex, 'Ast']= MNCAATourneyDetailed.loc[i, 'WAst']
    MasterTrainDf.loc[trainDfIndex, 'TO']= MNCAATourneyDetailed.loc[i, 'WTO']
    MasterTrainDf.loc[trainDfIndex, 'Stl']= MNCAATourneyDetailed.loc[i, 'WStl']
    MasterTrainDf.loc[trainDfIndex, 'Blk']= MNCAATourneyDetailed.loc[i, 'WBlk']
    MasterTrainDf.loc[trainDfIndex, 'PF']= MNCAATourneyDetailed.loc[i, 'WPF']
    MasterTrainDf.loc[trainDfIndex, 'W/L']= 1
    trainDfIndex=trainDfIndex+1
    MasterTrainDf.loc[trainDfIndex, 'Score']= MNCAATourneyDetailed.loc[i, 'LScore']
    MasterTrainDf.loc[trainDfIndex, 'FG%']= MNCAATourneyDetailed.loc[i, 'LFGM']/MNCAATourneyDetailed.loc[i, 'WFGA']
    MasterTrainDf.loc[trainDfIndex, '3pt%']= MNCAATourneyDetailed.loc[i, 'LFGM3']/MNCAATourneyDetailed.loc[i, 'WFGA3']
    MasterTrainDf.loc[trainDfIndex, 'FT%']= MNCAATourneyDetailed.loc[i, 'LFTM']/MNCAATourneyDetailed.loc[i, 'WFTA']
    MasterTrainDf.loc[trainDfIndex, 'OffReb']= MNCAATourneyDetailed.loc[i, 'LOR']
    MasterTrainDf.loc[trainDfIndex, 'DefReb']= MNCAATourneyDetailed.loc[i, 'LDR']
    MasterTrainDf.loc[trainDfIndex, 'Ast']= MNCAATourneyDetailed.loc[i, 'LAst']
    MasterTrainDf.loc[trainDfIndex, 'TO']= MNCAATourneyDetailed.loc[i, 'LTO']
    MasterTrainDf.loc[trainDfIndex, 'Stl']= MNCAATourneyDetailed.loc[i, 'LStl']
    MasterTrainDf.loc[trainDfIndex, 'Blk']= MNCAATourneyDetailed.loc[i, 'LBlk']
    MasterTrainDf.loc[trainDfIndex, 'PF']= MNCAATourneyDetailed.loc[i, 'LPF']
    MasterTrainDf.loc[trainDfIndex, 'W/L']= 0
    trainDfIndex=trainDfIndex+1


MasterTrainDf

#Womens data
WMasterTrainDf= pd.DataFrame()
trainDfIndex=0
for i in range(len(WNCAATourneyDetailed)):
    WMasterTrainDf.loc[trainDfIndex, 'Score']= WNCAATourneyDetailed.loc[i, 'WScore']
    WMasterTrainDf.loc[trainDfIndex, 'FG%']= WNCAATourneyDetailed.loc[i, 'WFGM']/WNCAATourneyDetailed.loc[i, 'WFGA']
    WMasterTrainDf.loc[trainDfIndex, '3pt%']= WNCAATourneyDetailed.loc[i, 'WFGM3']/WNCAATourneyDetailed.loc[i, 'WFGA3']
    WMasterTrainDf.loc[trainDfIndex, 'FT%']= WNCAATourneyDetailed.loc[i, 'WFTM']/WNCAATourneyDetailed.loc[i, 'WFTA']
    WMasterTrainDf.loc[trainDfIndex, 'OffReb']= WNCAATourneyDetailed.loc[i, 'WOR']
    WMasterTrainDf.loc[trainDfIndex, 'DefReb']= WNCAATourneyDetailed.loc[i, 'WDR']
    WMasterTrainDf.loc[trainDfIndex, 'Ast']= WNCAATourneyDetailed.loc[i, 'WAst']
    WMasterTrainDf.loc[trainDfIndex, 'TO']= WNCAATourneyDetailed.loc[i, 'WTO']
    WMasterTrainDf.loc[trainDfIndex, 'Stl']= WNCAATourneyDetailed.loc[i, 'WStl']
    WMasterTrainDf.loc[trainDfIndex, 'Blk']= WNCAATourneyDetailed.loc[i, 'WBlk']
    WMasterTrainDf.loc[trainDfIndex, 'PF']= WNCAATourneyDetailed.loc[i, 'WPF']
    WMasterTrainDf.loc[trainDfIndex, 'W/L']= 1
    trainDfIndex=trainDfIndex+1
    WMasterTrainDf.loc[trainDfIndex, 'Score']= WNCAATourneyDetailed.loc[i, 'LScore']
    WMasterTrainDf.loc[trainDfIndex, 'FG%']= WNCAATourneyDetailed.loc[i, 'LFGM']/WNCAATourneyDetailed.loc[i, 'WFGA']
    WMasterTrainDf.loc[trainDfIndex, '3pt%']= WNCAATourneyDetailed.loc[i, 'LFGM3']/WNCAATourneyDetailed.loc[i, 'WFGA3']
    WMasterTrainDf.loc[trainDfIndex, 'FT%']= WNCAATourneyDetailed.loc[i, 'LFTM']/WNCAATourneyDetailed.loc[i, 'WFTA']
    WMasterTrainDf.loc[trainDfIndex, 'OffReb']= WNCAATourneyDetailed.loc[i, 'LOR']
    WMasterTrainDf.loc[trainDfIndex, 'DefReb']= WNCAATourneyDetailed.loc[i, 'LDR']
    WMasterTrainDf.loc[trainDfIndex, 'Ast']= WNCAATourneyDetailed.loc[i, 'LAst']
    WMasterTrainDf.loc[trainDfIndex, 'TO']= WNCAATourneyDetailed.loc[i, 'LTO']
    WMasterTrainDf.loc[trainDfIndex, 'Stl']= WNCAATourneyDetailed.loc[i, 'LStl']
    WMasterTrainDf.loc[trainDfIndex, 'Blk']= WNCAATourneyDetailed.loc[i, 'LBlk']
    WMasterTrainDf.loc[trainDfIndex, 'PF']= WNCAATourneyDetailed.loc[i, 'LPF']
    WMasterTrainDf.loc[trainDfIndex, 'W/L']= 0
    trainDfIndex=trainDfIndex+1

WMasterTrainDf

#Training the models:
#First lets use FastAi's random splitter to seperate our training and validation sets. Using a seed allows for the results of this notebook to be reproducible.
from fastai.tabular.all import *

mensSplits= RandomSplitter(seed=42)(MasterTrainDf)
mensSplits
womensSplits= RandomSplitter(seed=42)(WMasterTrainDf)
womensSplits

mensDls= TabularPandas(
    MasterTrainDf, splits=mensSplits, 
    procs=[Categorify, FillMissing, Normalize],
    cont_names=['Score', 'FG%', '3pt%', 'FT%', 'OffReb','DefReb', 'Ast', 'TO', 'Stl', 'Blk', 'PF'],
    y_names='W/L', y_block=CategoryBlock(),
).dataloaders(path='.')

womensDls= TabularPandas(
    WMasterTrainDf, splits=womensSplits, 
    procs=[Categorify, FillMissing, Normalize],
    cont_names=['Score', 'FG%', '3pt%', 'FT%', 'OffReb','DefReb', 'Ast', 'TO', 'Stl', 'Blk', 'PF'],
    y_names='W/L', y_block=CategoryBlock(),
).dataloaders(path='.')

# Loading the models with newly created data loaders:
mensLearn=tabular_learner(mensDls, metrics=accuracy, layers=[10,10])

womensLearn=tabular_learner(womensDls, metrics=accuracy, layers=[10,10])


mensLearn.lr_find(suggest_funcs=(slide, valley))


womensLearn.lr_find(suggest_funcs=(slide, valley))


mensLearn.fit(10, lr=0.05)

womensLearn.fit(10, lr=0.05)

#Creating our input data:
#Now we need to create inputs for our model to predict on. We will be using a kaggle data set that includes all of the 2024 NCAA Tournament seeds. For each team in the tournament we will create a row the teams season averages for the same stats we trained the model on.
tourneySeeds= pd.read_csv('/kaggle/input/march-machine-learning-mania-2024/2024_tourney_seeds.csv')
seedsSeasonAvgs=pd.DataFrame()
mensRegularSeason= pd.read_csv('/kaggle/input/march-machine-learning-mania-2024/MRegularSeasonDetailedResults.csv')
mensRegularSeason.set_index(['Season'],inplace=True)
mensCurrentSeason=mensRegularSeason.loc[2024]
womensRegularSeason= pd.read_csv('/kaggle/input/march-machine-learning-mania-2024/WRegularSeasonDetailedResults.csv')
womensRegularSeason.set_index(['Season'],inplace=True)
womensCurrentSeason=womensRegularSeason.loc[2024]
for i in range(len(tourneySeeds)):
    currentSeason=mensCurrentSeason
    currentTeamID= tourneySeeds.loc[i, 'TeamID']
    if currentTeamID>2000:
        currentSeason=womensCurrentSeason
    gamesWon=currentSeason.loc[currentSeason['WTeamID']==currentTeamID]
    gamesLost=currentSeason.loc[currentSeason['LTeamID']==currentTeamID]
    # # df.loc[df['column_name'] == some_value]
    wonAndLost= pd.concat([gamesWon, gamesLost])
    totalGames=wonAndLost.shape[0]
    seedsSeasonAvgs.loc[currentTeamID, 'Score']=(gamesWon['WScore'].sum()+gamesLost['LScore'].sum())/totalGames
    seedsSeasonAvgs.loc[currentTeamID, 'FG%']=(gamesWon['WFGM'].sum()+gamesLost['LFGM'].sum())/(gamesWon['WFGA'].sum()+gamesLost['LFGA'].sum())
    seedsSeasonAvgs.loc[currentTeamID, '3pt%']=(gamesWon['WFGM3'].sum()+gamesLost['LFGM3'].sum())/(gamesWon['WFGA3'].sum()+gamesLost['LFGA3'].sum())
    seedsSeasonAvgs.loc[currentTeamID, 'FT%']=(gamesWon['WFTM'].sum()+gamesLost['LFTM'].sum())/(gamesWon['WFTA'].sum()+gamesLost['LFTA'].sum())
    seedsSeasonAvgs.loc[currentTeamID, 'OffReb']=(gamesWon['WOR'].sum()+gamesLost['LOR'].sum())/totalGames
    seedsSeasonAvgs.loc[currentTeamID, 'DefReb']=(gamesWon['WDR'].sum()+gamesLost['LDR'].sum())/totalGames
    seedsSeasonAvgs.loc[currentTeamID, 'Ast']=(gamesWon['WAst'].sum()+gamesLost['LAst'].sum())/totalGames
    seedsSeasonAvgs.loc[currentTeamID, 'TO']=(gamesWon['WTO'].sum()+gamesLost['LTO'].sum())/totalGames
    seedsSeasonAvgs.loc[currentTeamID, 'Stl']=(gamesWon['WStl'].sum()+gamesLost['LStl'].sum())/totalGames
    seedsSeasonAvgs.loc[currentTeamID, 'Blk']=(gamesWon['WBlk'].sum()+gamesLost['LBlk'].sum())/totalGames
    seedsSeasonAvgs.loc[currentTeamID, 'PF']=(gamesWon['WPF'].sum()+gamesLost['LPF'].sum())/totalGames
seedsSeasonAvgs

#Simulating the tournament:
#The following cell is used to simulate the mens and womens tournaments respectivly. 
#In order to achieve this we will store the teams for each region in an array. 
#The runTournament function simulates an entire tournament and stores the results of games in a data frame which can be converted into a csv. 
#Each iteration simulates a given game by selecting the team with a higher prediction score from our model.
#The seeding of the respective region arrays are updated and the process is repeated for each round.
#Preparing mens seeding into their respective region arrays
W=[]
X=[]
Y=[]
Z=[]
mensRounds=[W,X,Y,Z]
for i in range(64):
    if i<16:
        if i<9:
            mensRounds[0].append(('W0'+str(i+1), tourneySeeds.loc[i, 'TeamID']))
        else:
            mensRounds[0].append(('W'+str(i+1), tourneySeeds.loc[i, 'TeamID']))
    if i<32 and i>15:
        if (i%16)<9:
            mensRounds[1].append(('X0'+str((i%16)+1), tourneySeeds.loc[i, 'TeamID']))
        else:
            mensRounds[1].append(('X'+str((i%16)+1), tourneySeeds.loc[i, 'TeamID']))
    if i<48 and i>31:
        if (i%16)<9:
            mensRounds[2].append(('Y0'+str((i%16)+1), tourneySeeds.loc[i, 'TeamID']))
        else:
            mensRounds[2].append(('Y'+str((i%16)+1), tourneySeeds.loc[i, 'TeamID']))
    if i<64 and i>47:
        if (i%16)<9:
            mensRounds[3].append(('Z0'+str((i%16)+1), tourneySeeds.loc[i, 'TeamID']))
        else:
            mensRounds[3].append(('Z'+str((i%16)+1), tourneySeeds.loc[i, 'TeamID']))
#Preparing womens seeding into their respective region arrays
wW=[]
wX=[]
wY=[]
wZ=[]
womensRounds=[wW,wX,wY,wZ]
for i in range(64,128,1):
    if i<80 and i>63:
        if (i%16)<9:
            womensRounds[0].append(('W0'+str((i%16)+1), tourneySeeds.loc[i, 'TeamID']))
        else:
            womensRounds[0].append(('W'+str((i%16)+1), tourneySeeds.loc[i, 'TeamID']))
    if i<96 and i>79:
        if (i%16)<9:
            womensRounds[1].append(('X0'+str((i%16)+1), tourneySeeds.loc[i, 'TeamID']))
        else:
            womensRounds[1].append(('X'+str((i%16)+1), tourneySeeds.loc[i, 'TeamID']))
    if i<112 and i>95:
        if (i%16)<9:
            womensRounds[2].append(('Y0'+str((i%16)+1), tourneySeeds.loc[i, 'TeamID']))
        else:
            womensRounds[2].append(('Y'+str((i%16)+1), tourneySeeds.loc[i, 'TeamID']))
    if i<128 and i>111:
        if (i%16)<9:
            womensRounds[3].append(('Z0'+str((i%16)+1), tourneySeeds.loc[i, 'TeamID']))
        else:
            womensRounds[3].append(('Z'+str((i%16)+1), tourneySeeds.loc[i, 'TeamID']))
submission= pd.DataFrame()
def mapRoundsHelper(i,k):
    if i==1:# if round 1 map to 1,8,5,4,6,3,7,2 game order format, k is 0 based
        if k==1: return 7
        if k==2: return 4
        if k==4: return 5
        if k==5: return 2
        if k==7: return 1
    if i==2: # if round 2 map to 1,4,3,2 game order format
        if k==1: return 3
        if k==3: return 1
    return k
#predictChampionshipGames is used to predict the final four and championship games
#which involve teams from different regions.
def predictChampionshipGames(i,j,k,l,mensOrNot,rowIndex, numGames, learner, slot, bracket, Rounds):
    submission.loc[rowIndex, 'RowId']=rowIndex
    if(mensOrNot==1):
        submission.loc[rowIndex, 'Tournament']='M'
    else:
        submission.loc[rowIndex, 'Tournament']='W'
    submission.loc[rowIndex, 'Bracket']=bracket
    team1Seed, team1ID= Rounds[j][k]
    team2Seed, team2ID= Rounds[l][k]
    row, clas, team1Prediction = learner.predict(seedsSeasonAvgs.loc[team1ID])
    row, clas, team2Prediction = learner.predict(seedsSeasonAvgs.loc[team2ID])
    team1SeedNum=int(team1Seed[1:2])
    team2SeedNum=int(team2Seed[1:2])
    if team1SeedNum > team2SeedNum :
        submission.loc[rowIndex, 'Slot']=slot
    else:
        submission.loc[rowIndex, 'Slot']=slot
    if team1Prediction[1] > team2Prediction[1]:
        submission.loc[rowIndex, 'Team']=team1Seed
    else:
        submission.loc[rowIndex, 'Team']=team2Seed
        Rounds[j][k]=Rounds[l][k]

rowIndex=0   
#runTournament simulates and an entire tournament and then stores the result 
#of each game in a data frame which can be converted to a csv. 
def runTournament(learner, mensOrNot, Rounds, bracket,rowIndex):
    numGames=8
    for i in range(1,5,1):#i is the current Round
        for j in range(4):#j is the current region
            for k in range(numGames):#k is the current game
                mapK=mapRoundsHelper(i,k)
                submission.loc[rowIndex, 'RowId']=rowIndex
                if(mensOrNot==1):
                    submission.loc[rowIndex, 'Tournament']='M'
                else:
                    submission.loc[rowIndex, 'Tournament']='W'
                submission.loc[rowIndex, 'Bracket']=bracket
                team1Seed, team1ID= Rounds[j][mapK]
                team2Seed, team2ID= Rounds[j][numGames*2-mapK-1]
                row, clas, team1Prediction = learner.predict(seedsSeasonAvgs.loc[team1ID])
                row, clas, team2Prediction = learner.predict(seedsSeasonAvgs.loc[team2ID])
                submission.loc[rowIndex, 'Slot']='R'+str(i)+str(team1Seed[0])+str(mapK+1)
                if team1Prediction[1] > team2Prediction[1]:
                    submission.loc[rowIndex, 'Team']=team1Seed
                else:
                    submission.loc[rowIndex, 'Team']=team2Seed
                    Rounds[j][mapK]=Rounds[j][numGames*2-mapK-1]
                rowIndex=rowIndex+1
        numGames=numGames//2
    #Final Four Games
    predictChampionshipGames(5,0,0,1,mensOrNot,rowIndex, numGames, learner, 'R5WX',bracket,Rounds)
    rowIndex=rowIndex+1
    predictChampionshipGames(5,2,0,3,mensOrNot,rowIndex, numGames, learner, 'R5YZ',bracket,Rounds)
    rowIndex=rowIndex+1
    #Championship Game
    predictChampionshipGames(5,0,0,2,mensOrNot,rowIndex, numGames, learner, 'R6CH',bracket,Rounds)
runTournament(mensLearn, 1, mensRounds,1,rowIndex)
rowIndex=63
runTournament(womensLearn, 0, womensRounds,1,rowIndex)
submission

#Converting Dataframe into a csv for printing the results:
submission['RowId']=submission['RowId'].astype(int)
submission['Bracket']=submission['Bracket'].astype(int)
submission.to_csv('submission.csv', index=False)
!head submission.csv

